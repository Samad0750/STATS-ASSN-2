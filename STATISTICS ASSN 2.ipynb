{
 "cells": [
  {
   "cell_type": "markdown",
   "id": "36672ccb-a263-4638-9a8c-a75df72e276b",
   "metadata": {},
   "source": [
    "# QUESTION 1\n",
    "THE THREE MEASURES OF CENTRAL TENDENCY ARE \n",
    "MEAN\n",
    "MEDIAN \n",
    "MODE"
   ]
  },
  {
   "cell_type": "markdown",
   "id": "1b474f69-b5d3-46a9-9d7f-95e5cf4b7fe1",
   "metadata": {},
   "source": [
    "# QUESTION 2\n",
    "The difference between mean, median and mode are: Mean is the average value of the given observations. Median is the middle value of the given observations. Mode is the most repeated value in the given observation.\n",
    "\n",
    "Mean and medin caan be calcuated by numpy tool.\n",
    "for mode (from scipy import stats) ....\n",
    "\n"
   ]
  },
  {
   "cell_type": "code",
   "execution_count": 36,
   "id": "d9840290-cceb-4b63-979f-09a8c4448daf",
   "metadata": {},
   "outputs": [],
   "source": [
    "# QUESTION 3\n",
    "height=[178,177,176,177,178.2,178,175,179,180,175,178.9,176.2,177,172.5,178,176.5]"
   ]
  },
  {
   "cell_type": "code",
   "execution_count": 37,
   "id": "98948f77-c393-46f2-8458-1072c5cbdcaa",
   "metadata": {},
   "outputs": [],
   "source": [
    "import numpy as np\n",
    "from scipy import stats"
   ]
  },
  {
   "cell_type": "code",
   "execution_count": 38,
   "id": "0cbd952c-e765-4a6e-932b-566e8b5c74ac",
   "metadata": {},
   "outputs": [
    {
     "data": {
      "text/plain": [
       "177.01875"
      ]
     },
     "execution_count": 38,
     "metadata": {},
     "output_type": "execute_result"
    }
   ],
   "source": [
    "np.mean(height)"
   ]
  },
  {
   "cell_type": "code",
   "execution_count": 39,
   "id": "a04bf2ff-e798-40ee-9f68-41118fe07450",
   "metadata": {},
   "outputs": [
    {
     "data": {
      "text/plain": [
       "177.0"
      ]
     },
     "execution_count": 39,
     "metadata": {},
     "output_type": "execute_result"
    }
   ],
   "source": [
    "np.median(height)"
   ]
  },
  {
   "cell_type": "code",
   "execution_count": 40,
   "id": "b2c1c9ca-474f-4994-bd57-516b09251631",
   "metadata": {},
   "outputs": [
    {
     "name": "stderr",
     "output_type": "stream",
     "text": [
      "/tmp/ipykernel_96/1690947930.py:1: FutureWarning: Unlike other reduction functions (e.g. `skew`, `kurtosis`), the default behavior of `mode` typically preserves the axis it acts along. In SciPy 1.11.0, this behavior will change: the default value of `keepdims` will become False, the `axis` over which the statistic is taken will be eliminated, and the value None will no longer be accepted. Set `keepdims` to True or False to avoid this warning.\n",
      "  stats.mode(height)\n"
     ]
    },
    {
     "data": {
      "text/plain": [
       "ModeResult(mode=array([177.]), count=array([3]))"
      ]
     },
     "execution_count": 40,
     "metadata": {},
     "output_type": "execute_result"
    }
   ],
   "source": [
    "stats.mode(height)"
   ]
  },
  {
   "cell_type": "code",
   "execution_count": 46,
   "id": "634594cb-6748-4645-8bc4-6eca45827f1b",
   "metadata": {},
   "outputs": [
    {
     "data": {
      "text/plain": [
       "1.7885814036548633"
      ]
     },
     "execution_count": 46,
     "metadata": {},
     "output_type": "execute_result"
    }
   ],
   "source": [
    "## QUESTION 4\n",
    "np.std(height)"
   ]
  },
  {
   "cell_type": "markdown",
   "id": "b33110d6-0b7a-4d41-8954-7aaf6919e026",
   "metadata": {},
   "source": [
    "# QUESTION 5\n",
    "\n",
    "Range, variance, and standard deviation all measure the spread or variability of a data set in different ways. The range is easy to calculate—it's the difference between the largest and smallest data points in a set. Standard deviation is the square root of the variance"
   ]
  },
  {
   "cell_type": "code",
   "execution_count": 47,
   "id": "3835695e-41c5-4471-bda0-d8e8804bda28",
   "metadata": {},
   "outputs": [],
   "source": [
    "## EXAMPLE \n",
    "height=[178,177,176,177,178.2,178,175,179,180,175,178.9,176.2,177,172.5,178,176.5]\n"
   ]
  },
  {
   "cell_type": "code",
   "execution_count": 48,
   "id": "ad6be81f-102a-4b7c-a2d1-1dff0725ceb8",
   "metadata": {},
   "outputs": [
    {
     "data": {
      "text/plain": [
       "3.199023437500001"
      ]
     },
     "execution_count": 48,
     "metadata": {},
     "output_type": "execute_result"
    }
   ],
   "source": [
    "np.var(height)"
   ]
  },
  {
   "cell_type": "code",
   "execution_count": 49,
   "id": "42f3fab1-010d-484b-8163-dbf1a715eb33",
   "metadata": {},
   "outputs": [
    {
     "data": {
      "text/plain": [
       "7.5"
      ]
     },
     "execution_count": 49,
     "metadata": {},
     "output_type": "execute_result"
    }
   ],
   "source": [
    "np.ptp(height)"
   ]
  },
  {
   "cell_type": "code",
   "execution_count": 50,
   "id": "79bfac1b-d8c3-4356-a298-25cc6603ef3e",
   "metadata": {},
   "outputs": [
    {
     "data": {
      "text/plain": [
       "1.7885814036548633"
      ]
     },
     "execution_count": 50,
     "metadata": {},
     "output_type": "execute_result"
    }
   ],
   "source": [
    "np.std(height)"
   ]
  },
  {
   "cell_type": "markdown",
   "id": "9818dffb-7472-4c3c-801c-d168dd6644c8",
   "metadata": {},
   "source": [
    "# QUESTION 6\n",
    "Venn diagrams are the diagrams that are used to represent the sets, relation between the sets and operation performed on them, in a pictorial way."
   ]
  },
  {
   "cell_type": "code",
   "execution_count": 51,
   "id": "b3489257-591c-4ec7-a6d5-4428d7e86cd6",
   "metadata": {},
   "outputs": [],
   "source": [
    "# QUESTION 7\n",
    "A = {2,3,4,5,6,7}\n",
    "B = {0,2,6,8,10}"
   ]
  },
  {
   "cell_type": "code",
   "execution_count": 52,
   "id": "8a5a343b-2eed-4d6d-9372-eebbd9c14472",
   "metadata": {},
   "outputs": [
    {
     "data": {
      "text/plain": [
       "{2, 6}"
      ]
     },
     "execution_count": 52,
     "metadata": {},
     "output_type": "execute_result"
    }
   ],
   "source": [
    "A.intersection(B)"
   ]
  },
  {
   "cell_type": "code",
   "execution_count": 53,
   "id": "fde8a99c-acac-46c0-b871-cb9969738c66",
   "metadata": {},
   "outputs": [
    {
     "data": {
      "text/plain": [
       "{0, 2, 3, 4, 5, 6, 7, 8, 10}"
      ]
     },
     "execution_count": 53,
     "metadata": {},
     "output_type": "execute_result"
    }
   ],
   "source": [
    "A.union(B)"
   ]
  },
  {
   "cell_type": "markdown",
   "id": "c6a960f8-0430-4208-974c-6d1a0cd5a026",
   "metadata": {},
   "source": [
    "# QUESTION 8\n",
    "Skewness is a measurement of the distortion of symmetrical distribution or asymmetry in a data set. Skewness is demonstrated on a bell curve when data points are not distributed symmetrically to the left and right sides of the median on a bell curve. If the bell curve is shifted to the left or the right, it is said to be skewed."
   ]
  },
  {
   "cell_type": "markdown",
   "id": "e772f3f6-b5cf-48ec-b5d9-2cbb1c26936d",
   "metadata": {},
   "source": [
    "# QUESTION 9\n",
    "If data is right skewed or positively skewed then Mean>=Median>=Mode."
   ]
  },
  {
   "cell_type": "markdown",
   "id": "ad4857fe-d5e9-4b8a-9a16-2ee1be37065d",
   "metadata": {},
   "source": [
    "# QUESTION 10\n",
    "Both covariance and correlation measure the relationship and the dependency between two variables. Covariance indicates the direction of the linear relationship between variables while correlation measures both the strength and direction of the linear relationship between two variables.\n",
    "\n",
    "\n",
    "Covariance has limits from -infinity to +infinity while correlation has limits from -1 to +1."
   ]
  },
  {
   "cell_type": "markdown",
   "id": "f97a39b0-86c5-4bb9-b390-1fa7bb0282de",
   "metadata": {},
   "source": [
    "# QUESTION 11\n",
    "Formula: 1/n[summision i goes 1 to n (xi)]"
   ]
  },
  {
   "cell_type": "code",
   "execution_count": 54,
   "id": "c6278f09-566f-485f-8e46-9f187a287b2f",
   "metadata": {},
   "outputs": [
    {
     "data": {
      "text/plain": [
       "3.5"
      ]
     },
     "execution_count": 54,
     "metadata": {},
     "output_type": "execute_result"
    }
   ],
   "source": [
    "## example\n",
    "X=[1,2,3,4,5,6]\n",
    "np.mean(X)"
   ]
  },
  {
   "cell_type": "markdown",
   "id": "8dcdb23d-d9e7-4cea-82d0-19c463f173de",
   "metadata": {},
   "source": [
    "# QUESTION 12\n",
    "For a normal distrbution Mean=Median=Mode"
   ]
  },
  {
   "cell_type": "markdown",
   "id": "bea4bbab-9b97-4adc-82e5-1726d1e1820e",
   "metadata": {},
   "source": [
    "# QUESTION 13\n",
    "COVARIANCE IS NOTHING BUT VARIANCE OF (X,X)."
   ]
  },
  {
   "cell_type": "code",
   "execution_count": 55,
   "id": "c0bc3a20-553d-4627-955b-059b45300b79",
   "metadata": {},
   "outputs": [],
   "source": [
    "# QUESTION 14\n",
    "'''MEAN IS MOST SENSITIVE TO OUTLIERS WHILE MEDIAN IS LESS AFFECTED.\n",
    "FOR EXAMPLE'''\n",
    "B=[23,34,45,46,67,45,33]\n",
    "C=[23,34,45,46,67,45,33,600]## HERE 600 IS AN OUTLIER"
   ]
  },
  {
   "cell_type": "code",
   "execution_count": 56,
   "id": "fe2cd5f2-56c2-4b4e-b225-81dd6c350780",
   "metadata": {},
   "outputs": [
    {
     "data": {
      "text/plain": [
       "41.857142857142854"
      ]
     },
     "execution_count": 56,
     "metadata": {},
     "output_type": "execute_result"
    }
   ],
   "source": [
    "np.mean(B)"
   ]
  },
  {
   "cell_type": "code",
   "execution_count": 57,
   "id": "f14c3b01-693b-476a-96dd-27ed1db7282c",
   "metadata": {},
   "outputs": [
    {
     "data": {
      "text/plain": [
       "111.625"
      ]
     },
     "execution_count": 57,
     "metadata": {},
     "output_type": "execute_result"
    }
   ],
   "source": [
    "np.mean(C)"
   ]
  },
  {
   "cell_type": "code",
   "execution_count": 58,
   "id": "a01bc9c1-ba10-4535-b3fb-76083dd1b0ed",
   "metadata": {},
   "outputs": [
    {
     "data": {
      "text/plain": [
       "45.0"
      ]
     },
     "execution_count": 58,
     "metadata": {},
     "output_type": "execute_result"
    }
   ],
   "source": [
    "np.median(B)"
   ]
  },
  {
   "cell_type": "code",
   "execution_count": 59,
   "id": "e31e96ee-4a11-4c61-bc56-1b2700bea833",
   "metadata": {},
   "outputs": [
    {
     "data": {
      "text/plain": [
       "45.0"
      ]
     },
     "execution_count": 59,
     "metadata": {},
     "output_type": "execute_result"
    }
   ],
   "source": [
    "np.median(C)"
   ]
  },
  {
   "cell_type": "code",
   "execution_count": 60,
   "id": "878b9050-6e9b-46da-83c5-16589d44acf2",
   "metadata": {},
   "outputs": [],
   "source": [
    "## HERE IT IS  CLEARED THE A BOOM IS SEEN IN MEAN VALUE BT MDEIAN REMAINS SAME OR LEAST AFFECTED."
   ]
  },
  {
   "cell_type": "code",
   "execution_count": 61,
   "id": "e4f4612c-41b4-4d84-a86e-4e853ce4062d",
   "metadata": {},
   "outputs": [
    {
     "data": {
      "text/plain": [
       "44"
      ]
     },
     "execution_count": 61,
     "metadata": {},
     "output_type": "execute_result"
    }
   ],
   "source": [
    "np.ptp(B)"
   ]
  },
  {
   "cell_type": "code",
   "execution_count": 62,
   "id": "4ffefc06-98ad-4cb1-aa9b-9c5bd1754881",
   "metadata": {},
   "outputs": [
    {
     "data": {
      "text/plain": [
       "577"
      ]
     },
     "execution_count": 62,
     "metadata": {},
     "output_type": "execute_result"
    }
   ],
   "source": [
    "np.ptp(C)"
   ]
  },
  {
   "cell_type": "code",
   "execution_count": 63,
   "id": "ba9651aa-d8e7-4aba-847d-82b0884cd257",
   "metadata": {},
   "outputs": [
    {
     "data": {
      "text/plain": [
       "12.899928808536352"
      ]
     },
     "execution_count": 63,
     "metadata": {},
     "output_type": "execute_result"
    }
   ],
   "source": [
    "np.std(B)"
   ]
  },
  {
   "cell_type": "code",
   "execution_count": 64,
   "id": "d9ad0cd4-8590-4442-94b5-884d4e4e1a3d",
   "metadata": {},
   "outputs": [
    {
     "data": {
      "text/plain": [
       "184.9823893645014"
      ]
     },
     "execution_count": 64,
     "metadata": {},
     "output_type": "execute_result"
    }
   ],
   "source": [
    "np.std(C)"
   ]
  },
  {
   "cell_type": "code",
   "execution_count": 65,
   "id": "f38da531-68c1-4469-aca7-5d2fc7714aa2",
   "metadata": {},
   "outputs": [
    {
     "data": {
      "text/plain": [
       "166.40816326530611"
      ]
     },
     "execution_count": 65,
     "metadata": {},
     "output_type": "execute_result"
    }
   ],
   "source": [
    "np.var(B)"
   ]
  },
  {
   "cell_type": "code",
   "execution_count": 66,
   "id": "5aad7d82-aab4-4f17-a040-776deeada970",
   "metadata": {},
   "outputs": [
    {
     "data": {
      "text/plain": [
       "34218.484375"
      ]
     },
     "execution_count": 66,
     "metadata": {},
     "output_type": "execute_result"
    }
   ],
   "source": [
    "np.var(C)"
   ]
  },
  {
   "cell_type": "code",
   "execution_count": null,
   "id": "324f7fe2-def6-40cc-b607-384c9c4bf0dc",
   "metadata": {},
   "outputs": [],
   "source": []
  },
  {
   "cell_type": "code",
   "execution_count": null,
   "id": "b7685bc7-006c-4a9e-83b7-3d26d5bbdbb3",
   "metadata": {},
   "outputs": [],
   "source": []
  }
 ],
 "metadata": {
  "kernelspec": {
   "display_name": "Python 3 (ipykernel)",
   "language": "python",
   "name": "python3"
  },
  "language_info": {
   "codemirror_mode": {
    "name": "ipython",
    "version": 3
   },
   "file_extension": ".py",
   "mimetype": "text/x-python",
   "name": "python",
   "nbconvert_exporter": "python",
   "pygments_lexer": "ipython3",
   "version": "3.10.8"
  }
 },
 "nbformat": 4,
 "nbformat_minor": 5
}
